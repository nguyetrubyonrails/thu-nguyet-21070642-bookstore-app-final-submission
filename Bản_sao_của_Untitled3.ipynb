{
  "nbformat": 4,
  "nbformat_minor": 0,
  "metadata": {
    "colab": {
      "provenance": [],
      "authorship_tag": "ABX9TyO4zh/qvs//mM92jFyvOrZx",
      "include_colab_link": true
    },
    "kernelspec": {
      "name": "python3",
      "display_name": "Python 3"
    },
    "language_info": {
      "name": "python"
    }
  },
  "cells": [
    {
      "cell_type": "markdown",
      "metadata": {
        "id": "view-in-github",
        "colab_type": "text"
      },
      "source": [
        "<a href=\"https://colab.research.google.com/github/nguyetrubyonrails/thu-nguyet-21070642-bookstore-app-final-submission/blob/main/B%E1%BA%A3n_sao_c%E1%BB%A7a_Untitled3.ipynb\" target=\"_parent\"><img src=\"https://colab.research.google.com/assets/colab-badge.svg\" alt=\"Open In Colab\"/></a>"
      ]
    },
    {
      "cell_type": "code",
      "source": [
        "import numpy as np\n",
        "import pandas as pd\n",
        "import matplotlib.pyplot as plt\n",
        "import seaborn as sns\n",
        "\n",
        "%matplotlib inline\n",
        "\n",
        "import os\n",
        "print(os.listdir())\n",
        "\n",
        "import warnings\n",
        "warnings.filterwarnings('ignore')"
      ],
      "metadata": {
        "colab": {
          "base_uri": "https://localhost:8080/"
        },
        "id": "MzIe00pCaipD",
        "outputId": "dc9ae85b-932e-477f-8f42-1fa05b1619f4"
      },
      "execution_count": null,
      "outputs": [
        {
          "output_type": "stream",
          "name": "stdout",
          "text": [
            "['.config', 'heart.csv', 'sample_data']\n"
          ]
        }
      ]
    },
    {
      "cell_type": "code",
      "source": [],
      "metadata": {
        "id": "GOVGX7UILWzB"
      },
      "execution_count": null,
      "outputs": []
    },
    {
      "cell_type": "code",
      "source": [
        "dataset = pd.read_csv('heart.csv')"
      ],
      "metadata": {
        "id": "YCBkd8Gcaiq8"
      },
      "execution_count": null,
      "outputs": []
    },
    {
      "cell_type": "code",
      "source": [
        "pip install scikit-learn"
      ],
      "metadata": {
        "colab": {
          "base_uri": "https://localhost:8080/"
        },
        "id": "gHvfy13KaxO0",
        "outputId": "069d9f2e-d56e-4423-e7b5-d347c176caef"
      },
      "execution_count": null,
      "outputs": [
        {
          "output_type": "stream",
          "name": "stdout",
          "text": [
            "Requirement already satisfied: scikit-learn in /usr/local/lib/python3.10/dist-packages (1.2.2)\n",
            "Requirement already satisfied: numpy>=1.17.3 in /usr/local/lib/python3.10/dist-packages (from scikit-learn) (1.23.5)\n",
            "Requirement already satisfied: scipy>=1.3.2 in /usr/local/lib/python3.10/dist-packages (from scikit-learn) (1.11.4)\n",
            "Requirement already satisfied: joblib>=1.1.1 in /usr/local/lib/python3.10/dist-packages (from scikit-learn) (1.3.2)\n",
            "Requirement already satisfied: threadpoolctl>=2.0.0 in /usr/local/lib/python3.10/dist-packages (from scikit-learn) (3.2.0)\n"
          ]
        }
      ]
    },
    {
      "cell_type": "code",
      "source": [
        "import sklearn"
      ],
      "metadata": {
        "id": "7PdqI7fSaxQ3"
      },
      "execution_count": null,
      "outputs": []
    },
    {
      "cell_type": "code",
      "source": [
        "from sklearn.metrics import accuracy_score"
      ],
      "metadata": {
        "id": "XD_1y4ataxS_"
      },
      "execution_count": null,
      "outputs": []
    },
    {
      "cell_type": "code",
      "source": [
        "from sklearn.linear_model import LogisticRegression\n",
        "\n",
        "lr = LogisticRegression()\n",
        "\n",
        "lr.fit(X_train,Y_train)\n",
        "\n",
        "Y_pred_lr = lr.predict(X_test)"
      ],
      "metadata": {
        "id": "8CJBJGvDaxWU"
      },
      "execution_count": null,
      "outputs": []
    },
    {
      "cell_type": "code",
      "source": [
        "dataset[\"sex\"].unique()"
      ],
      "metadata": {
        "colab": {
          "base_uri": "https://localhost:8080/"
        },
        "id": "_whHIyc1b4B5",
        "outputId": "760cfe5b-39dd-4e84-bcc3-c6ab529f2d8f"
      },
      "execution_count": null,
      "outputs": [
        {
          "output_type": "execute_result",
          "data": {
            "text/plain": [
              "array([1, 0])"
            ]
          },
          "metadata": {},
          "execution_count": 12
        }
      ]
    },
    {
      "cell_type": "code",
      "source": [
        "sns.countplot(x=dataset[\"sex\"])"
      ],
      "metadata": {
        "colab": {
          "base_uri": "https://localhost:8080/",
          "height": 466
        },
        "id": "dg9MGSxib4FZ",
        "outputId": "5a532a50-ab75-4ad7-e244-5f3e23c013a0"
      },
      "execution_count": null,
      "outputs": [
        {
          "output_type": "execute_result",
          "data": {
            "text/plain": [
              "<Axes: xlabel='sex', ylabel='count'>"
            ]
          },
          "metadata": {},
          "execution_count": 13
        },
        {
          "output_type": "display_data",
          "data": {
            "text/plain": [
              "<Figure size 640x480 with 1 Axes>"
            ],
            "image/png": "[encoded data removed]"
          },
          "metadata": {}
        }
      ]
    },
    {
      "cell_type": "markdown",
      "source": [
        "We notice, that females are more likely to have heart problems than males"
      ],
      "metadata": {
        "id": "OgfHQBLEcg4-"
      }
    },
    {
      "cell_type": "code",
      "source": [
        "from sklearn.metrics import accuracy_score"
      ],
      "metadata": {
        "id": "IHqmwgV2cf-O"
      },
      "execution_count": null,
      "outputs": []
    },
    {
      "cell_type": "code",
      "source": [
        "pip install sklearn --"
      ],
      "metadata": {
        "colab": {
          "base_uri": "https://localhost:8080/"
        },
        "id": "4ftxHXPHiHD6",
        "outputId": "67708ac8-ca8a-49c1-dc14-3414bb13c360"
      },
      "execution_count": null,
      "outputs": [
        {
          "output_type": "stream",
          "name": "stdout",
          "text": [
            "Collecting sklearn\n",
            "  Downloading sklearn-0.0.post12.tar.gz (2.6 kB)\n",
            "  \u001b[1;31merror\u001b[0m: \u001b[1msubprocess-exited-with-error\u001b[0m\n",
            "  \n",
            "  \u001b[31m×\u001b[0m \u001b[32mpython setup.py egg_info\u001b[0m did not run successfully.\n",
            "  \u001b[31m│\u001b[0m exit code: \u001b[1;36m1\u001b[0m\n",
            "  \u001b[31m╰─>\u001b[0m See above for output.\n",
            "  \n",
            "  \u001b[1;35mnote\u001b[0m: This error originates from a subprocess, and is likely not a problem with pip.\n",
            "  Preparing metadata (setup.py) ... \u001b[?25l\u001b[?25herror\n",
            "\u001b[1;31merror\u001b[0m: \u001b[1mmetadata-generation-failed\u001b[0m\n",
            "\n",
            "\u001b[31m×\u001b[0m Encountered error while generating package metadata.\n",
            "\u001b[31m╰─>\u001b[0m See above for output.\n",
            "\n",
            "\u001b[1;35mnote\u001b[0m: This is an issue with the package mentioned above, not pip.\n",
            "\u001b[1;36mhint\u001b[0m: See above for details.\n"
          ]
        }
      ]
    },
    {
      "cell_type": "code",
      "source": [
        "from sklearn.model_selection import train_test_split\n",
        "\n",
        "predictors = dataset.drop(\"target\",axis=1)\n",
        "target = dataset[\"target\"]\n",
        "\n",
        "X_train,X_test,Y_train,Y_test = train_test_split(predictors,target,test_size=0.20,random_state=0)"
      ],
      "metadata": {
        "id": "4JRTwfYWjEEa"
      },
      "execution_count": null,
      "outputs": []
    },
    {
      "cell_type": "code",
      "source": [
        "X_train.shape"
      ],
      "metadata": {
        "colab": {
          "base_uri": "https://localhost:8080/"
        },
        "id": "4brhCfzjjEH2",
        "outputId": "c91bafd9-a4d0-4391-92ef-5498e3e6eabb"
      },
      "execution_count": null,
      "outputs": [
        {
          "output_type": "execute_result",
          "data": {
            "text/plain": [
              "(820, 13)"
            ]
          },
          "metadata": {},
          "execution_count": 19
        }
      ]
    },
    {
      "cell_type": "code",
      "source": [
        "X_test.shape"
      ],
      "metadata": {
        "colab": {
          "base_uri": "https://localhost:8080/"
        },
        "id": "2MCL0xv1jO3y",
        "outputId": "ec05648e-f126-42ac-bbfc-a61e94adbd94"
      },
      "execution_count": null,
      "outputs": [
        {
          "output_type": "execute_result",
          "data": {
            "text/plain": [
              "(205, 13)"
            ]
          },
          "metadata": {},
          "execution_count": 20
        }
      ]
    },
    {
      "cell_type": "code",
      "source": [
        "Y_train.shape"
      ],
      "metadata": {
        "colab": {
          "base_uri": "https://localhost:8080/"
        },
        "id": "NCQApMtLjO54",
        "outputId": "f3b9e30f-fb17-46bf-b0f3-9e05a75f7827"
      },
      "execution_count": null,
      "outputs": [
        {
          "output_type": "execute_result",
          "data": {
            "text/plain": [
              "(820,)"
            ]
          },
          "metadata": {},
          "execution_count": 21
        }
      ]
    },
    {
      "cell_type": "code",
      "source": [
        "Y_test.shape"
      ],
      "metadata": {
        "colab": {
          "base_uri": "https://localhost:8080/"
        },
        "id": "K69yWcD_jO9Q",
        "outputId": "98d8007f-2c8e-4b1e-9bd5-fe15d4467e04"
      },
      "execution_count": null,
      "outputs": [
        {
          "output_type": "execute_result",
          "data": {
            "text/plain": [
              "(205,)"
            ]
          },
          "metadata": {},
          "execution_count": 22
        }
      ]
    },
    {
      "cell_type": "markdown",
      "source": [
        "decision tree\n"
      ],
      "metadata": {
        "id": "Q79L4p_5knPd"
      }
    },
    {
      "cell_type": "code",
      "source": [
        "from sklearn.metrics import accuracy_score"
      ],
      "metadata": {
        "id": "vu2lO1zKjcrV"
      },
      "execution_count": null,
      "outputs": []
    },
    {
      "cell_type": "markdown",
      "source": [],
      "metadata": {
        "id": "mTlTjdWrkpUL"
      }
    },
    {
      "cell_type": "code",
      "source": [
        "from sklearn.tree import DecisionTreeClassifier\n",
        "\n",
        "max_accuracy = 0\n",
        "\n",
        "\n",
        "for x in range(200):\n",
        "    dt = DecisionTreeClassifier(random_state=x)\n",
        "    dt.fit(X_train,Y_train)\n",
        "    Y_pred_dt = dt.predict(X_test)\n",
        "    current_accuracy = round(accuracy_score(Y_pred_dt,Y_test)*100,2)\n",
        "    if(current_accuracy>max_accuracy):\n",
        "        max_accuracy = current_accuracy\n",
        "        best_x = x\n",
        "\n",
        "#print(max_accuracy)\n",
        "#print(best_x)\n",
        "\n",
        "\n",
        "dt = DecisionTreeClassifier(random_state=best_x)\n",
        "dt.fit(X_train,Y_train)\n",
        "Y_pred_dt = dt.predict(X_test)"
      ],
      "metadata": {
        "id": "bB9Cm7dyjcu0"
      },
      "execution_count": null,
      "outputs": []
    },
    {
      "cell_type": "code",
      "source": [
        "print(Y_pred_dt.shape)"
      ],
      "metadata": {
        "colab": {
          "base_uri": "https://localhost:8080/"
        },
        "id": "zdgaB58Pjkku",
        "outputId": "69cb061e-2622-4460-cf75-b7f34671a836"
      },
      "execution_count": null,
      "outputs": [
        {
          "output_type": "stream",
          "name": "stdout",
          "text": [
            "(205,)\n"
          ]
        }
      ]
    },
    {
      "cell_type": "code",
      "source": [
        "score_dt = round(accuracy_score(Y_pred_dt,Y_test)*100,2)\n",
        "\n",
        "print(\"The accuracy score achieved using Decision Tree is: \"+str(score_dt)+\" %\")"
      ],
      "metadata": {
        "colab": {
          "base_uri": "https://localhost:8080/"
        },
        "id": "ak55fMA4jkmx",
        "outputId": "d1eff245-0bb8-4d8e-ccb8-350f81f151df"
      },
      "execution_count": null,
      "outputs": [
        {
          "output_type": "stream",
          "name": "stdout",
          "text": [
            "The accuracy score achieved using Decision Tree is: 100.0 %\n"
          ]
        }
      ]
    },
    {
      "cell_type": "code",
      "source": [
        "# Import necessary libraries\n",
        "import pandas as pd\n",
        "from sklearn.model_selection import train_test_split\n",
        "from sklearn.tree import DecisionTreeClassifier\n",
        "from sklearn.tree import export_text\n",
        "\n",
        "\n"
      ],
      "metadata": {
        "id": "yLAZqJOfrUzO"
      },
      "execution_count": null,
      "outputs": []
    },
    {
      "cell_type": "code",
      "source": [
        "df = pd.read_csv('heart.csv')\n",
        "\n"
      ],
      "metadata": {
        "id": "QwCwqqjPrbnK"
      },
      "execution_count": null,
      "outputs": []
    },
    {
      "cell_type": "code",
      "source": [
        "import pandas as pd\n",
        "from sklearn.model_selection import train_test_split\n",
        "from sklearn.tree import DecisionTreeClassifier\n",
        "from sklearn.tree import export_text\n",
        "import matplotlib.pyplot as plt\n",
        "\n",
        "# Load the dataset\n",
        "df = pd.read_csv('heart.csv')\n",
        "\n",
        "# Display the first few rows of the dataset to understand its structure\n",
        "print(df.head())\n",
        "\n",
        "# Extract the 'Age' column for analysis\n",
        "age_data = df['age']\n",
        "\n",
        "# Plot the age distribution using a histogram\n",
        "plt.hist(age_data, bins=20, edgecolor='black', alpha=0.7)\n",
        "plt.title('Age Distribution of Patients')\n",
        "plt.xlabel('Age')\n",
        "plt.ylabel('Frequency')\n",
        "plt.show()\n",
        "\n",
        "# If you want to use a decision tree algorithm for some specific task (e.g., classification)\n",
        "# you can use the following code as an example:\n",
        "\n",
        "# Extract features (X) and target variable (y)\n",
        "# For simplicity, let's assume you want to predict the presence of heart disease (column 'target')\n",
        "X = df[['age']]\n",
        "y = df['target']\n",
        "\n",
        "# Split the dataset into training and testing sets\n",
        "X_train, X_test, y_train, y_test = train_test_split(X, y, test_size=0.2, random_state=42)\n",
        "\n",
        "# Initialize the Decision Tree Classifier\n",
        "clf = DecisionTreeClassifier()\n",
        "\n",
        "# Train the classifier on the training data\n",
        "clf.fit(X_train, y_train)\n",
        "\n",
        "# Print the decision tree rules\n",
        "tree_rules = export_text(clf, feature_names=['age'])\n",
        "print(tree_rules)"
      ],
      "metadata": {
        "colab": {
          "base_uri": "https://localhost:8080/",
          "height": 1000
        },
        "id": "EHtRR2U_sGxF",
        "outputId": "90b46be7-cbb1-4830-a9e4-d836c9f4786d"
      },
      "execution_count": null,
      "outputs": [
        {
          "output_type": "stream",
          "name": "stdout",
          "text": [
            "   age  sex  cp  trestbps  chol  fbs  restecg  thalach  exang  oldpeak  slope  \\\n",
            "0   52    1   0       125   212    0        1      168      0      1.0      2   \n",
            "1   53    1   0       140   203    1        0      155      1      3.1      0   \n",
            "2   70    1   0       145   174    0        1      125      1      2.6      0   \n",
            "3   61    1   0       148   203    0        1      161      0      0.0      2   \n",
            "4   62    0   0       138   294    1        1      106      0      1.9      1   \n",
            "\n",
            "   ca  thal  target  \n",
            "0   2     3       0  \n",
            "1   0     3       0  \n",
            "2   0     3       0  \n",
            "3   1     3       0  \n",
            "4   3     2       0  \n"
          ]
        },
        {
          "output_type": "display_data",
          "data": {
            "text/plain": [
              "<Figure size 640x480 with 1 Axes>"
            ],
            "image/png": "[encoded data removed]"
          },
          "metadata": {}
        },
        {
          "output_type": "stream",
          "name": "stdout",
          "text": [
            "|--- age <= 54.50\n",
            "|   |--- age <= 42.50\n",
            "|   |   |--- age <= 40.50\n",
            "|   |   |   |--- age <= 39.50\n",
            "|   |   |   |   |--- age <= 34.50\n",
            "|   |   |   |   |   |--- class: 1\n",
            "|   |   |   |   |--- age >  34.50\n",
            "|   |   |   |   |   |--- age <= 36.00\n",
            "|   |   |   |   |   |   |--- class: 0\n",
            "|   |   |   |   |   |--- age >  36.00\n",
            "|   |   |   |   |   |   |--- age <= 37.50\n",
            "|   |   |   |   |   |   |   |--- class: 1\n",
            "|   |   |   |   |   |   |--- age >  37.50\n",
            "|   |   |   |   |   |   |   |--- age <= 38.50\n",
            "|   |   |   |   |   |   |   |   |--- class: 1\n",
            "|   |   |   |   |   |   |   |--- age >  38.50\n",
            "|   |   |   |   |   |   |   |   |--- class: 1\n",
            "|   |   |   |--- age >  39.50\n",
            "|   |   |   |   |--- class: 0\n",
            "|   |   |--- age >  40.50\n",
            "|   |   |   |--- age <= 41.50\n",
            "|   |   |   |   |--- class: 1\n",
            "|   |   |   |--- age >  41.50\n",
            "|   |   |   |   |--- class: 1\n",
            "|   |--- age >  42.50\n",
            "|   |   |--- age <= 50.50\n",
            "|   |   |   |--- age <= 45.50\n",
            "|   |   |   |   |--- age <= 43.50\n",
            "|   |   |   |   |   |--- class: 0\n",
            "|   |   |   |   |--- age >  43.50\n",
            "|   |   |   |   |   |--- age <= 44.50\n",
            "|   |   |   |   |   |   |--- class: 1\n",
            "|   |   |   |   |   |--- age >  44.50\n",
            "|   |   |   |   |   |   |--- class: 1\n",
            "|   |   |   |--- age >  45.50\n",
            "|   |   |   |   |--- age <= 47.50\n",
            "|   |   |   |   |   |--- age <= 46.50\n",
            "|   |   |   |   |   |   |--- class: 1\n",
            "|   |   |   |   |   |--- age >  46.50\n",
            "|   |   |   |   |   |   |--- class: 1\n",
            "|   |   |   |   |--- age >  47.50\n",
            "|   |   |   |   |   |--- age <= 49.50\n",
            "|   |   |   |   |   |   |--- age <= 48.50\n",
            "|   |   |   |   |   |   |   |--- class: 1\n",
            "|   |   |   |   |   |   |--- age >  48.50\n",
            "|   |   |   |   |   |   |   |--- class: 0\n",
            "|   |   |   |   |   |--- age >  49.50\n",
            "|   |   |   |   |   |   |--- class: 1\n",
            "|   |   |--- age >  50.50\n",
            "|   |   |   |--- age <= 52.50\n",
            "|   |   |   |   |--- age <= 51.50\n",
            "|   |   |   |   |   |--- class: 1\n",
            "|   |   |   |   |--- age >  51.50\n",
            "|   |   |   |   |   |--- class: 1\n",
            "|   |   |   |--- age >  52.50\n",
            "|   |   |   |   |--- age <= 53.50\n",
            "|   |   |   |   |   |--- class: 1\n",
            "|   |   |   |   |--- age >  53.50\n",
            "|   |   |   |   |   |--- class: 1\n",
            "|--- age >  54.50\n",
            "|   |--- age <= 70.50\n",
            "|   |   |--- age <= 63.50\n",
            "|   |   |   |--- age <= 59.50\n",
            "|   |   |   |   |--- age <= 56.50\n",
            "|   |   |   |   |   |--- age <= 55.50\n",
            "|   |   |   |   |   |   |--- class: 0\n",
            "|   |   |   |   |   |--- age >  55.50\n",
            "|   |   |   |   |   |   |--- class: 0\n",
            "|   |   |   |   |--- age >  56.50\n",
            "|   |   |   |   |   |--- age <= 57.50\n",
            "|   |   |   |   |   |   |--- class: 0\n",
            "|   |   |   |   |   |--- age >  57.50\n",
            "|   |   |   |   |   |   |--- age <= 58.50\n",
            "|   |   |   |   |   |   |   |--- class: 0\n",
            "|   |   |   |   |   |   |--- age >  58.50\n",
            "|   |   |   |   |   |   |   |--- class: 0\n",
            "|   |   |   |--- age >  59.50\n",
            "|   |   |   |   |--- age <= 61.50\n",
            "|   |   |   |   |   |--- age <= 60.50\n",
            "|   |   |   |   |   |   |--- class: 0\n",
            "|   |   |   |   |   |--- age >  60.50\n",
            "|   |   |   |   |   |   |--- class: 0\n",
            "|   |   |   |   |--- age >  61.50\n",
            "|   |   |   |   |   |--- age <= 62.50\n",
            "|   |   |   |   |   |   |--- class: 0\n",
            "|   |   |   |   |   |--- age >  62.50\n",
            "|   |   |   |   |   |   |--- class: 0\n",
            "|   |   |--- age >  63.50\n",
            "|   |   |   |--- age <= 66.50\n",
            "|   |   |   |   |--- age <= 64.50\n",
            "|   |   |   |   |   |--- class: 1\n",
            "|   |   |   |   |--- age >  64.50\n",
            "|   |   |   |   |   |--- age <= 65.50\n",
            "|   |   |   |   |   |   |--- class: 0\n",
            "|   |   |   |   |   |--- age >  65.50\n",
            "|   |   |   |   |   |   |--- class: 1\n",
            "|   |   |   |--- age >  66.50\n",
            "|   |   |   |   |--- age <= 67.50\n",
            "|   |   |   |   |   |--- class: 0\n",
            "|   |   |   |   |--- age >  67.50\n",
            "|   |   |   |   |   |--- age <= 69.50\n",
            "|   |   |   |   |   |   |--- age <= 68.50\n",
            "|   |   |   |   |   |   |   |--- class: 0\n",
            "|   |   |   |   |   |   |--- age >  68.50\n",
            "|   |   |   |   |   |   |   |--- class: 1\n",
            "|   |   |   |   |   |--- age >  69.50\n",
            "|   |   |   |   |   |   |--- class: 0\n",
            "|   |--- age >  70.50\n",
            "|   |   |--- age <= 76.50\n",
            "|   |   |   |--- class: 1\n",
            "|   |   |--- age >  76.50\n",
            "|   |   |   |--- class: 0\n",
            "\n"
          ]
        }
      ]
    },
    {
      "cell_type": "code",
      "source": [
        "import pandas as pd\n",
        "import matplotlib.pyplot as plt\n",
        "from sklearn.model_selection import train_test_split\n",
        "from sklearn.tree import DecisionTreeClassifier\n",
        "from sklearn.tree import export_text\n",
        "\n"
      ],
      "metadata": {
        "id": "kkOm5mG-LdNR"
      },
      "execution_count": 2,
      "outputs": []
    },
    {
      "cell_type": "code",
      "source": [
        "df = pd.read_csv('heart.csv')\n",
        "\n"
      ],
      "metadata": {
        "id": "FmxF8t7ILn3E"
      },
      "execution_count": 6,
      "outputs": []
    },
    {
      "cell_type": "code",
      "source": [
        "# Display the first few rows of the dataset to understand its structure\n",
        "print(df.head())\n",
        "\n",
        "# Visualize the distribution of chest pain types (cp)\n",
        "plt.figure(figsize=(8, 5))\n",
        "df['cp'].value_counts().sort_index().plot(kind='bar', color='skyblue', edgecolor='black', alpha=0.7)\n",
        "plt.title('Distribution of Chest Pain Types')\n",
        "plt.xlabel('Chest Pain Type')\n",
        "plt.ylabel('Frequency')\n",
        "plt.xticks(rotation=0)\n",
        "plt.show()\n",
        "\n",
        "# If you want to use a decision tree algorithm for some specific task (e.g., classification)\n",
        "# you can use the following code as an example:\n",
        "\n",
        "# Extract features (X) and target variable (y)\n",
        "# For simplicity, let's assume you want to predict the presence of heart disease (column 'target')\n",
        "X = df[['cp']]\n",
        "y = df['target']\n",
        "\n",
        "# Split the dataset into training and testing sets\n",
        "X_train, X_test, y_train, y_test = train_test_split(X, y, test_size=0.2, random_state=42)\n",
        "\n",
        "# Initialize the Decision Tree Classifier\n",
        "clf = DecisionTreeClassifier()\n",
        "\n",
        "# Train the classifier on the training data\n",
        "clf.fit(X_train, y_train)\n",
        "\n",
        "# Print the decision tree rules\n",
        "tree_rules = export_text(clf, feature_names=['cp'])\n",
        "print(tree_rules)"
      ],
      "metadata": {
        "colab": {
          "base_uri": "https://localhost:8080/",
          "height": 903
        },
        "id": "m7wtBgUjL4iJ",
        "outputId": "53a7f7b8-1761-4f3b-e986-4737b9be8f9b"
      },
      "execution_count": 7,
      "outputs": [
        {
          "output_type": "stream",
          "name": "stdout",
          "text": [
            "   age  sex  cp  trestbps  chol  fbs  restecg  thalach  exang  oldpeak  slope  \\\n",
            "0   52    1   0       125   212    0        1      168      0      1.0      2   \n",
            "1   53    1   0       140   203    1        0      155      1      3.1      0   \n",
            "2   70    1   0       145   174    0        1      125      1      2.6      0   \n",
            "3   61    1   0       148   203    0        1      161      0      0.0      2   \n",
            "4   62    0   0       138   294    1        1      106      0      1.9      1   \n",
            "\n",
            "   ca  thal  target  \n",
            "0   2     3       0  \n",
            "1   0     3       0  \n",
            "2   0     3       0  \n",
            "3   1     3       0  \n",
            "4   3     2       0  \n"
          ]
        },
        {
          "output_type": "display_data",
          "data": {
            "text/plain": [
              "<Figure size 800x500 with 1 Axes>"
            ],
            "image/png": "[encoded data removed]"
          },
          "metadata": {}
        },
        {
          "output_type": "stream",
          "name": "stdout",
          "text": [
            "|--- cp <= 0.50\n",
            "|   |--- class: 0\n",
            "|--- cp >  0.50\n",
            "|   |--- cp <= 1.50\n",
            "|   |   |--- class: 1\n",
            "|   |--- cp >  1.50\n",
            "|   |   |--- cp <= 2.50\n",
            "|   |   |   |--- class: 1\n",
            "|   |   |--- cp >  2.50\n",
            "|   |   |   |--- class: 1\n",
            "\n"
          ]
        }
      ]
    }
  ]
}